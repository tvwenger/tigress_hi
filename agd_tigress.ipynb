{
 "cells": [
  {
   "cell_type": "markdown",
   "id": "c0824569",
   "metadata": {},
   "source": [
    "# Automated Gaussian Decomposition (`gausspy`) of TIGRESS-NCR spectra\n",
    "Trey V. Wenger - October 2024\n",
    "\n",
    "Run in `gausspy` environment:\n",
    "```bash\n",
    "conda activate gausspy\n",
    "```"
   ]
  },
  {
   "cell_type": "code",
   "execution_count": 1,
   "id": "b791f913",
   "metadata": {},
   "outputs": [],
   "source": [
    "import pickle\n",
    "import gausspy.gp as gp\n",
    "import numpy as np\n",
    "\n",
    "outdir = \"/media/drive1/tigress_ncr_results/R8_4pc\"\n",
    "\n",
    "# trained parameters from Murray et al. (2018)\n",
    "a_emission = 3.75\n",
    "snr_emission = 5.0\n",
    "a1_absorption = 1.12\n",
    "a2_absorption = 2.75\n",
    "snr_absorption = 3.0\n",
    "\n",
    "# restrict TB to realistic values from Murray et al. (2018)\n",
    "max_tb = \"max\"\n",
    "\n",
    "# allow widths to vary by 10% between from Murray et al. (2018)\n",
    "p_width = 0.1\n",
    "\n",
    "# allow centroids to vary by 10% from Murray et al. (2018)\n",
    "# gausspy parameterizes this in terms of number of channels\n",
    "# not clear how a 10% variation applies to mean velocity since velocity can be zero\n",
    "# so let's use the gausspy default of 2 channels\n",
    "d_mean = 2\n",
    "\n",
    "# drop emission components within 1 native channel of absorption components from Murray et al. (2018)\n",
    "drop_width = 4"
   ]
  },
  {
   "cell_type": "code",
   "execution_count": 2,
   "id": "afe3fa9c",
   "metadata": {},
   "outputs": [],
   "source": [
    "# Joint decomposition\n",
    "g_joint = gp.GaussianDecomposer()\n",
    "g_joint.set(\"phase\", \"two\")\n",
    "g_joint.set(\"alpha1\", a1_absorption)\n",
    "g_joint.set(\"alpha2\", a2_absorption)\n",
    "g_joint.set(\"SNR_thresh\", snr_absorption)\n",
    "g_joint.set(\"SNR2_thresh\", snr_absorption)\n",
    "g_joint.set(\"alpha_em\", a_emission)\n",
    "g_joint.set(\"SNR_em\", snr_emission)\n",
    "g_joint.set(\"max_tb\", max_tb)\n",
    "g_joint.set(\"p_width\", p_width)\n",
    "g_joint.set(\"d_mean\", d_mean)\n",
    "g_joint.set(\"drop_width\", drop_width)"
   ]
  },
  {
   "cell_type": "markdown",
   "id": "40a63b01-9a6f-411b-9898-ba438cea7cc0",
   "metadata": {},
   "source": [
    "## Prepare spectra\n",
    "Interpolate to 0.1 km/s resolution and convert absorption spectra to optical depth."
   ]
  },
  {
   "cell_type": "code",
   "execution_count": 3,
   "id": "f622089b-04da-4226-a7fc-34001ce11e30",
   "metadata": {},
   "outputs": [
    {
     "name": "stdout",
     "output_type": "stream",
     "text": [
      "mismatched 1pix\n"
     ]
    },
    {
     "data": {
      "application/vnd.jupyter.widget-view+json": {
       "model_id": "ebae676b47b4498182bf11fed1c9c125",
       "version_major": 2,
       "version_minor": 0
      },
      "text/plain": [
       "  0%|          | 0/1000 [00:00<?, ?it/s]"
      ]
     },
     "metadata": {},
     "output_type": "display_data"
    },
    {
     "name": "stderr",
     "output_type": "stream",
     "text": [
      "/tmp/ipykernel_430159/841545505.py:34: RuntimeWarning: invalid value encountered in log\n",
      "  data[f\"data_list\"][idx] = -np.log(1.0-data[f\"data_list\"][idx])\n"
     ]
    },
    {
     "name": "stdout",
     "output_type": "stream",
     "text": [
      "mismatched 3pix\n"
     ]
    },
    {
     "data": {
      "application/vnd.jupyter.widget-view+json": {
       "model_id": "e7be5f160494416c928b3260a1702ae8",
       "version_major": 2,
       "version_minor": 0
      },
      "text/plain": [
       "  0%|          | 0/1000 [00:00<?, ?it/s]"
      ]
     },
     "metadata": {},
     "output_type": "display_data"
    },
    {
     "name": "stdout",
     "output_type": "stream",
     "text": [
      "mismatched 10pix\n"
     ]
    },
    {
     "data": {
      "application/vnd.jupyter.widget-view+json": {
       "model_id": "63668f9898a64e509d2ef721f7530cbd",
       "version_major": 2,
       "version_minor": 0
      },
      "text/plain": [
       "  0%|          | 0/1000 [00:00<?, ?it/s]"
      ]
     },
     "metadata": {},
     "output_type": "display_data"
    },
    {
     "name": "stdout",
     "output_type": "stream",
     "text": [
      "matched 1pix\n"
     ]
    },
    {
     "data": {
      "application/vnd.jupyter.widget-view+json": {
       "model_id": "338aaf54f02a430c90251429e3be30db",
       "version_major": 2,
       "version_minor": 0
      },
      "text/plain": [
       "  0%|          | 0/1000 [00:00<?, ?it/s]"
      ]
     },
     "metadata": {},
     "output_type": "display_data"
    },
    {
     "name": "stdout",
     "output_type": "stream",
     "text": [
      "matched 3pix\n"
     ]
    },
    {
     "data": {
      "application/vnd.jupyter.widget-view+json": {
       "model_id": "b49443fbd6924aad89acddea41519344",
       "version_major": 2,
       "version_minor": 0
      },
      "text/plain": [
       "  0%|          | 0/1000 [00:00<?, ?it/s]"
      ]
     },
     "metadata": {},
     "output_type": "display_data"
    },
    {
     "name": "stdout",
     "output_type": "stream",
     "text": [
      "matched 10pix\n"
     ]
    },
    {
     "data": {
      "application/vnd.jupyter.widget-view+json": {
       "model_id": "161928bc09c8476fb9db7f0eadbd9d6b",
       "version_major": 2,
       "version_minor": 0
      },
      "text/plain": [
       "  0%|          | 0/1000 [00:00<?, ?it/s]"
      ]
     },
     "metadata": {},
     "output_type": "display_data"
    }
   ],
   "source": [
    "import pickle\n",
    "import numpy as np\n",
    "from tqdm.notebook import tqdm\n",
    "\n",
    "datatypes = [\"mismatched\", \"matched\"]\n",
    "fwhms = [\"1pix\", \"3pix\", \"10pix\"]\n",
    "\n",
    "for datatype in datatypes:\n",
    "    for fwhm in fwhms:\n",
    "        # Interpolate spectra to 0.1 km/s resolution\n",
    "        with open(f\"{outdir}/HI_{datatype}_spectra_{fwhm}.pkl\", \"rb\") as f:\n",
    "            data = pickle.load(f)\n",
    "\n",
    "        print(datatype, fwhm)\n",
    "        pbar = tqdm(total=len(data['data_list']))\n",
    "        \n",
    "        for idx in range(len(data['data_list'])):\n",
    "            for feature in ['', '_em']:\n",
    "                x_values = data[f\"x_values{feature}\"][idx]\n",
    "                data_list = data[f\"data_list{feature}\"][idx]\n",
    "                errors = data[f\"errors{feature}\"][idx]\n",
    "                if x_values[0] > x_values[1]:\n",
    "                    x_values = x_values[::-1]\n",
    "                    data_list = data_list[::-1]\n",
    "                    errors = errors[::-1]\n",
    "                start = x_values[0]\n",
    "                end = x_values[-1]\n",
    "                new_x_values = np.arange(start, end, 0.1) # km/s\n",
    "                data[f\"data_list{feature}\"][idx] = np.interp(new_x_values, x_values, data_list)\n",
    "                data[f\"errors{feature}\"][idx] = np.interp(new_x_values, x_values, errors)\n",
    "                data[f\"x_values{feature}\"][idx] = new_x_values\n",
    "\n",
    "            # And change absorption from 1-exp(-tau) to tau\n",
    "            data[f\"data_list\"][idx] = -np.log(1.0-data[f\"data_list\"][idx])\n",
    "            data[f\"errors\"][idx] *= 1.0 / np.abs(1.0 - data[f\"data_list\"][idx])\n",
    "\n",
    "            # drop nans\n",
    "            isnan = np.isnan(data[f\"data_list\"][idx])\n",
    "            data[f\"data_list\"][idx][isnan] = 10.0\n",
    "            data[f\"errors\"][idx][isnan] = 10.0\n",
    "            \n",
    "            pbar.update(1)\n",
    "        \n",
    "        with open(f\"{outdir}/HI_{datatype}_spectra_{fwhm}_resampled.pkl\", \"wb\") as f:\n",
    "            pickle.dump(data, f)"
   ]
  },
  {
   "cell_type": "markdown",
   "id": "97422da4-c523-4cce-a91c-c122f4e4b2dd",
   "metadata": {},
   "source": [
    "## Gaussian decomposition"
   ]
  },
  {
   "cell_type": "code",
   "execution_count": 3,
   "id": "93a1cb61",
   "metadata": {},
   "outputs": [
    {
     "name": "stdout",
     "output_type": "stream",
     "text": [
      "mismatched 1pix\n",
      "using 18 out of 24 cpus\n"
     ]
    },
    {
     "name": "stderr",
     "output_type": "stream",
     "text": [
      "100%|████████████████████████████████████████████████████████████████████████████████████████████████████████████████████████| 999/999 [03:34<00:00, 4.65it/s]\n",
      "999it [00:00, 826125.73it/s]\n"
     ]
    },
    {
     "name": "stdout",
     "output_type": "stream",
     "text": [
      "SUCCESS\n",
      "100 finished.%\n",
      "mismatched 3pix\n",
      "using 18 out of 24 cpus\n"
     ]
    },
    {
     "name": "stderr",
     "output_type": "stream",
     "text": [
      "100%|████████████████████████████████████████████████████████████████████████████████████████████████████████████████████████| 999/999 [03:35<00:00, 4.64it/s]\n",
      "999it [00:00, 1105861.62it/s]\n"
     ]
    },
    {
     "name": "stdout",
     "output_type": "stream",
     "text": [
      "SUCCESS\n",
      "100 finished.%\n",
      "mismatched 10pix\n",
      "using 18 out of 24 cpus\n"
     ]
    },
    {
     "name": "stderr",
     "output_type": "stream",
     "text": [
      "100%|████████████████████████████████████████████████████████████████████████████████████████████████████████████████████████| 999/999 [18:42<00:00, 1.12s/it]\n",
      "999it [00:00, 1305330.12it/s]\n"
     ]
    },
    {
     "name": "stdout",
     "output_type": "stream",
     "text": [
      "SUCCESS\n",
      "100 finished.%\n",
      "matched 1pix\n",
      "using 18 out of 24 cpus\n"
     ]
    },
    {
     "name": "stderr",
     "output_type": "stream",
     "text": [
      "100%|████████████████████████████████████████████████████████████████████████████████████████████████████████████████████████| 999/999 [17:54<00:00, 1.08s/it]\n",
      "999it [00:00, 1150181.09it/s]\n"
     ]
    },
    {
     "name": "stdout",
     "output_type": "stream",
     "text": [
      "SUCCESS\n",
      "100 finished.%\n",
      "matched 3pix\n",
      "using 18 out of 24 cpus\n"
     ]
    },
    {
     "name": "stderr",
     "output_type": "stream",
     "text": [
      "100%|████████████████████████████████████████████████████████████████████████████████████████████████████████████████████████| 999/999 [17:30<00:00, 1.05s/it]\n",
      "999it [00:00, 1311458.43it/s]\n"
     ]
    },
    {
     "name": "stdout",
     "output_type": "stream",
     "text": [
      "SUCCESS\n",
      "100 finished.%\n",
      "matched 10pix\n",
      "using 18 out of 24 cpus\n"
     ]
    },
    {
     "name": "stderr",
     "output_type": "stream",
     "text": [
      "100%|████████████████████████████████████████████████████████████████████████████████████████████████████████████████████████| 999/999 [17:25<00:00, 1.05s/it]\n",
      "999it [00:00, 1281379.11it/s]"
     ]
    },
    {
     "name": "stdout",
     "output_type": "stream",
     "text": [
      "SUCCESS\n",
      "100 finished.%\n"
     ]
    },
    {
     "name": "stderr",
     "output_type": "stream",
     "text": [
      "\n"
     ]
    }
   ],
   "source": [
    "datatypes = [\"mismatched\", \"matched\"]\n",
    "fwhms = [\"1pix\", \"3pix\", \"10pix\"]\n",
    "\n",
    "for datatype in datatypes:\n",
    "    for fwhm in fwhms:\n",
    "        print(datatype, fwhm)\n",
    "        decomposed_joint = g_joint.batch_decomposition(f\"{outdir}/HI_{datatype}_spectra_{fwhm}_resampled.pkl\")\n",
    "        with open(f\"{outdir}/HI_{datatype}_spectra_{fwhm}_resampled_agd.pkl\", \"wb\") as f:\n",
    "            pickle.dump(decomposed_joint, f)"
   ]
  },
  {
   "cell_type": "code",
   "execution_count": null,
   "id": "5ed3bba2-5ee7-4039-80ea-432d29b783c5",
   "metadata": {},
   "outputs": [],
   "source": []
  }
 ],
 "metadata": {
  "kernelspec": {
   "display_name": "Python 3 (ipykernel)",
   "language": "python",
   "name": "python3"
  },
  "language_info": {
   "codemirror_mode": {
    "name": "ipython",
    "version": 3
   },
   "file_extension": ".py",
   "mimetype": "text/x-python",
   "name": "python",
   "nbconvert_exporter": "python",
   "pygments_lexer": "ipython3",
   "version": "3.12.4"
  }
 },
 "nbformat": 4,
 "nbformat_minor": 5
}
