{
 "cells": [
  {
   "cell_type": "markdown",
   "id": "c0824569",
   "metadata": {},
   "source": [
    "# Automated Gaussian Decomposition (`gausspy`)\n",
    "Trey V. Wenger - October 2024"
   ]
  },
  {
   "cell_type": "code",
   "execution_count": 1,
   "id": "b791f913",
   "metadata": {},
   "outputs": [],
   "source": [
    "import pickle\n",
    "import gausspy.gp as gp\n",
    "import numpy as np\n",
    "\n",
    "outdir = \"/media/drive1/tigress_ncr_results/R8_4pc\"\n",
    "\n",
    "# trained parameters from Murray et al. (2018)\n",
    "a_emission = 3.75\n",
    "snr_emission = 5.0\n",
    "a1_absorption = 1.12\n",
    "a2_absorption = 2.75\n",
    "snr_absorption = 3.0"
   ]
  },
  {
   "cell_type": "code",
   "execution_count": 2,
   "id": "afe3fa9c",
   "metadata": {},
   "outputs": [],
   "source": [
    "# Joint decomposition\n",
    "g_joint = gp.GaussianDecomposer()\n",
    "g_joint.set(\"phase\", \"two\")\n",
    "g_joint.set(\"alpha1\", a1_absorption)\n",
    "g_joint.set(\"alpha2\", a2_absorption)\n",
    "g_joint.set(\"SNR_thresh\", snr_absorption)\n",
    "g_joint.set(\"SNR2_thresh\", snr_absorption)\n",
    "g_joint.set(\"alpha_em\", a_emission)\n",
    "g_joint.set(\"max_tb\", \"max\")\n",
    "g_joint.set(\"p_width\", 10.0)\n",
    "g_joint.set(\"d_mean\", 2)\n",
    "g_joint.set(\"min_dv\", 10.0)\n",
    "g_joint.set(\"drop_width\", 1)\n",
    "g_joint.set(\"SNR_em\", snr_emission)"
   ]
  },
  {
   "cell_type": "code",
   "execution_count": 3,
   "id": "f622089b-04da-4226-a7fc-34001ce11e30",
   "metadata": {},
   "outputs": [
    {
     "name": "stdout",
     "output_type": "stream",
     "text": [
      "using 18 out of 24 cpus\n"
     ]
    },
    {
     "name": "stderr",
     "output_type": "stream",
     "text": [
      "100%|███████████████████████████████████████████████████████████████████████████████████████████████| 999/999 [03:29<00:00, 4.76it/s]\n",
      "999it [00:00, 1585961.28it/s]"
     ]
    },
    {
     "name": "stdout",
     "output_type": "stream",
     "text": [
      "SUCCESS\n",
      "100 finished.%\n"
     ]
    },
    {
     "name": "stderr",
     "output_type": "stream",
     "text": [
      "\n"
     ]
    }
   ],
   "source": [
    "decomposed_joint = g_joint.batch_decomposition(f\"{outdir}/HI_true_spectra_1pix.pkl\")\n",
    "with open(f\"{outdir}/HI_true_spectra_1pix_agd.pkl\", \"wb\") as f:\n",
    "    pickle.dump(decomposed_joint, f)"
   ]
  },
  {
   "cell_type": "code",
   "execution_count": 4,
   "id": "93a1cb61",
   "metadata": {},
   "outputs": [
    {
     "name": "stdout",
     "output_type": "stream",
     "text": [
      "using 18 out of 24 cpus\n"
     ]
    },
    {
     "name": "stderr",
     "output_type": "stream",
     "text": [
      "100%|███████████████████████████████████████████████████████████████████████████████████████████████| 999/999 [03:26<00:00, 4.83it/s]\n",
      "999it [00:00, 1325984.08it/s]\n"
     ]
    },
    {
     "name": "stdout",
     "output_type": "stream",
     "text": [
      "SUCCESS\n",
      "100 finished.%\n"
     ]
    }
   ],
   "source": [
    "decomposed_joint = g_joint.batch_decomposition(f\"{outdir}/HI_annulus_spectra_1pix.pkl\")\n",
    "with open(f\"{outdir}/HI_annulus_spectra_1pix_agd.pkl\", \"wb\") as f:\n",
    "    pickle.dump(decomposed_joint, f)"
   ]
  },
  {
   "cell_type": "code",
   "execution_count": 5,
   "id": "735d3782-a3c7-4655-bd62-d32d07d48837",
   "metadata": {},
   "outputs": [
    {
     "name": "stdout",
     "output_type": "stream",
     "text": [
      "using 18 out of 24 cpus\n"
     ]
    },
    {
     "name": "stderr",
     "output_type": "stream",
     "text": [
      "100%|███████████████████████████████████████████████████████████████████████████████████████████████| 999/999 [03:20<00:00, 4.98it/s]\n",
      "999it [00:00, 1244094.33it/s]"
     ]
    },
    {
     "name": "stdout",
     "output_type": "stream",
     "text": [
      "SUCCESS\n",
      "100 finished.%\n"
     ]
    },
    {
     "name": "stderr",
     "output_type": "stream",
     "text": [
      "\n"
     ]
    }
   ],
   "source": [
    "decomposed_joint = g_joint.batch_decomposition(f\"{outdir}/HI_annulus_error_spectra_1pix.pkl\")\n",
    "with open(f\"{outdir}/HI_annulus_error_spectra_1pix_agd.pkl\", \"wb\") as f:\n",
    "    pickle.dump(decomposed_joint, f)"
   ]
  },
  {
   "cell_type": "code",
   "execution_count": 6,
   "id": "a19219ce",
   "metadata": {},
   "outputs": [
    {
     "name": "stdout",
     "output_type": "stream",
     "text": [
      "using 18 out of 24 cpus\n"
     ]
    },
    {
     "name": "stderr",
     "output_type": "stream",
     "text": [
      "100%|███████████████████████████████████████████████████████████████████████████████████████████████| 999/999 [03:25<00:00, 4.85it/s]\n",
      "999it [00:00, 1037412.65it/s]"
     ]
    },
    {
     "name": "stdout",
     "output_type": "stream",
     "text": [
      "SUCCESS\n",
      "100 finished.%\n"
     ]
    },
    {
     "name": "stderr",
     "output_type": "stream",
     "text": [
      "\n"
     ]
    }
   ],
   "source": [
    "decomposed_joint = g_joint.batch_decomposition(f\"{outdir}/HI_true_spectra_3pix.pkl\")\n",
    "with open(f\"{outdir}/HI_true_spectra_3pix_agd.pkl\", \"wb\") as f:\n",
    "    pickle.dump(decomposed_joint, f)"
   ]
  },
  {
   "cell_type": "code",
   "execution_count": null,
   "id": "c41e0bcd",
   "metadata": {},
   "outputs": [
    {
     "name": "stdout",
     "output_type": "stream",
     "text": [
      "using 18 out of 24 cpus\n"
     ]
    },
    {
     "name": "stderr",
     "output_type": "stream",
     "text": [
      " 63%|████████████████████████████████████████████████████████████▎                                  | 634/999 [02:13<01:41, 3.60it/s]"
     ]
    }
   ],
   "source": [
    "decomposed_joint = g_joint.batch_decomposition(f\"{outdir}/HI_annulus_spectra_3pix.pkl\")\n",
    "with open(f\"{outdir}/HI_annulus_spectra_3pix_agd.pkl\", \"wb\") as f:\n",
    "    pickle.dump(decomposed_joint, f)"
   ]
  },
  {
   "cell_type": "code",
   "execution_count": null,
   "id": "1f4beffa-44e7-4ddb-b43e-06aa735ecd89",
   "metadata": {},
   "outputs": [],
   "source": [
    "decomposed_joint = g_joint.batch_decomposition(f\"{outdir}/HI_annulus_error_spectra_3pix.pkl\")\n",
    "with open(f\"{outdir}/HI_annulus_error_spectra_3pix_agd.pkl\", \"wb\") as f:\n",
    "    pickle.dump(decomposed_joint, f)"
   ]
  },
  {
   "cell_type": "code",
   "execution_count": null,
   "id": "69dd69de-8415-40b9-a4ee-48f44670a3d4",
   "metadata": {},
   "outputs": [],
   "source": [
    "decomposed_joint = g_joint.batch_decomposition(f\"{outdir}/HI_true_spectra_10pix.pkl\")\n",
    "with open(f\"{outdir}/HI_true_spectra_10pix_agd.pkl\", \"wb\") as f:\n",
    "    pickle.dump(decomposed_joint, f)"
   ]
  },
  {
   "cell_type": "code",
   "execution_count": null,
   "id": "fa505f05",
   "metadata": {},
   "outputs": [],
   "source": [
    "decomposed_joint = g_joint.batch_decomposition(f\"{outdir}/HI_annulus_spectra_10pix.pkl\")\n",
    "with open(f\"{outdir}/HI_annulus_spectra_10pix_agd.pkl\", \"wb\") as f:\n",
    "    pickle.dump(decomposed_joint, f)"
   ]
  },
  {
   "cell_type": "code",
   "execution_count": null,
   "id": "f1d54a87-8ddb-43b9-833b-3f0c1467097b",
   "metadata": {},
   "outputs": [],
   "source": [
    "decomposed_joint = g_joint.batch_decomposition(f\"{outdir}/HI_annulus_error_spectra_10pix.pkl\")\n",
    "with open(f\"{outdir}/HI_annulus_error_spectra_10pix_agd.pkl\", \"wb\") as f:\n",
    "    pickle.dump(decomposed_joint, f)"
   ]
  },
  {
   "cell_type": "code",
   "execution_count": null,
   "id": "5ed3bba2-5ee7-4039-80ea-432d29b783c5",
   "metadata": {},
   "outputs": [],
   "source": []
  }
 ],
 "metadata": {
  "kernelspec": {
   "display_name": "Python 3 (ipykernel)",
   "language": "python",
   "name": "python3"
  },
  "language_info": {
   "codemirror_mode": {
    "name": "ipython",
    "version": 3
   },
   "file_extension": ".py",
   "mimetype": "text/x-python",
   "name": "python",
   "nbconvert_exporter": "python",
   "pygments_lexer": "ipython3",
   "version": "3.9.19"
  }
 },
 "nbformat": 4,
 "nbformat_minor": 5
}
