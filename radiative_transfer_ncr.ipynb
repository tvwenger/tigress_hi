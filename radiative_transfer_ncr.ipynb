{
 "cells": [
  {
   "cell_type": "markdown",
   "id": "5254579d-9d25-460b-9dd8-15ad14dcd80e",
   "metadata": {},
   "source": [
    "# TIGRESS-NCR 21-cm Radiative Transfer\n",
    "Trey Wenger - October 2024\n",
    "\n",
    "Performs 21-cm radiative transfer on TIGRESS-NCR data:\n",
    "* extracts physical conditions from TIGRESS\n",
    "* saves those data to FITS cubes\n",
    "* performs 21-cm radiative transfer along a given axis\n",
    "* saves those data to FITS cubes\n",
    "* smooths emission cubes\n",
    "* generates sythetic spectral observations"
   ]
  },
  {
   "cell_type": "markdown",
   "id": "b20122d8-58b1-40fd-8bfc-729fb095ce12",
   "metadata": {},
   "source": [
    "## Load simulation data"
   ]
  },
  {
   "cell_type": "code",
   "execution_count": 1,
   "id": "d7ba5bd7-d8b3-483f-895b-c7dfc7bda0bf",
   "metadata": {
    "ExecuteTime": {
     "end_time": "2024-10-31T14:24:29.085051Z",
     "start_time": "2024-10-31T14:24:28.989005Z"
    }
   },
   "outputs": [
    {
     "name": "stderr",
     "output_type": "stream",
     "text": [
      "[LoadSim-WARNING] Could not find hst file in /media/drive1/tigress_ncr/R8_4pc\n",
      "[LoadSim-WARNING] zprof files not found in /media/drive1/tigress_ncr/R8_4pc.\n",
      "[LoadSim-WARNING] rst files not found in /media/drive1/tigress_ncr/R8_4pc.\n"
     ]
    },
    {
     "name": "stdout",
     "output_type": "stream",
     "text": [
      "Loading simulation...\n"
     ]
    }
   ],
   "source": [
    "import pyathena as pa\n",
    "\n",
    "# path to TIGRESS data\n",
    "dir_master = \"/media/drive1/tigress_ncr\"\n",
    "model_id = \"R8_4pc\"\n",
    "\n",
    "# load simulation\n",
    "print(\"Loading simulation...\")\n",
    "sim = pa.LoadSim(f\"{dir_master}/{model_id}\").load_vtk(num=300)"
   ]
  },
  {
   "cell_type": "code",
   "execution_count": 2,
   "id": "83b57bae-5f23-43da-bb74-ee265799ddee",
   "metadata": {},
   "outputs": [
    {
     "name": "stdout",
     "output_type": "stream",
     "text": [
      "{'all_grid_equal': True, 'ngrid': 768, 'le': array([ -512.,  -512., -3072.], dtype=float32), 're': array([ 512.,  512., 3072.], dtype=float32), 'dx': array([4., 4., 4.], dtype=float32), 'Lx': array([1024., 1024., 6144.], dtype=float32), 'center': array([0., 0., 0.], dtype=float32), 'Nx': array([ 256,  256, 1536]), 'ndim': 3, 'time': 300.0002}\n",
      "[ 256  256 1536]\n",
      "[256, 256, 320]\n"
     ]
    }
   ],
   "source": [
    "print(sim.domain)\n",
    "\n",
    "full_data_shape = sim.domain['Nx']\n",
    "print(full_data_shape)\n",
    "\n",
    "# keep only z = -638 to +638 pc\n",
    "le = [-512, -512, -638]\n",
    "re = [512, 512, 638]\n",
    "data_shape = [256, 256, 320]\n",
    "print(data_shape)"
   ]
  },
  {
   "cell_type": "code",
   "execution_count": 3,
   "id": "f09f9d29-682f-4e36-b930-e935a02034c6",
   "metadata": {},
   "outputs": [],
   "source": [
    "import multiprocessing as mp\n",
    "from multiprocessing.shared_memory import SharedMemory\n",
    "import numpy as np\n",
    "\n",
    "_SIM_PHASES = {\n",
    "    \"CNM\": {\"color\": \"blue\", \"spin_temp_min\": 0.0, \"spin_temp_max\": 400.0},\n",
    "    \"LNM\": {\"color\": \"green\", \"spin_temp_min\": 400.0, \"spin_temp_max\": 4000.0},\n",
    "    \"WNM\": {\"color\": \"orange\", \"spin_temp_min\": 4000.0, \"spin_temp_max\": np.inf},\n",
    "    \"All\": {\"color\": \"black\", \"spin_temp_min\": 0.0, \"spin_temp_max\": np.inf},\n",
    "}\n",
    "\n",
    "def load_shared_memory(data_shape, output_shape, create=False):\n",
    "    \"\"\"\n",
    "    Create or load shared memory resources for multiprocessing\n",
    "\n",
    "    Inputs:\n",
    "        data_shape :: tuple\n",
    "            Data shape\n",
    "        output_shape :: tuple\n",
    "            Radiative transfer output shape\n",
    "        create :: boolean\n",
    "            If True, create new shared resources. Otherwise, access existing resources\n",
    "    \"\"\"\n",
    "    data_nbytes = np.prod(data_shape) * 8\n",
    "    output_nbytes = np.prod(output_shape) * 8\n",
    "\n",
    "    # storage for all shared memory buffers\n",
    "    sh_mem = []\n",
    "\n",
    "    # storage for numpy data that reference shared memory buffers\n",
    "    data = {}\n",
    "\n",
    "    # simulation data\n",
    "    data_vars = [\"kin_temp\", \"spin_temp\", \"velocity\", \"sigma\"]\n",
    "    for data_var in data_vars:\n",
    "        mem = SharedMemory(name=data_var, create=create, size=data_nbytes)\n",
    "        sh_mem.append(mem)\n",
    "        data[data_var] = np.ndarray(data_shape, dtype=float, buffer=mem.buf)\n",
    "\n",
    "    data[\"nHI\"] = {}\n",
    "    data[\"NHI\"] = {}\n",
    "    for phase_name in _SIM_PHASES.keys():\n",
    "        mem = SharedMemory(name=f\"nHI_{phase_name}\", create=create, size=data_nbytes)\n",
    "        sh_mem.append(mem)\n",
    "        data[\"nHI\"][phase_name] = np.ndarray(data_shape, dtype=float, buffer=mem.buf)\n",
    "        mem = SharedMemory(name=f\"NHI_{phase_name}\", create=create, size=output_nbytes)\n",
    "        sh_mem.append(mem)\n",
    "        data[\"NHI\"][phase_name] = np.ndarray(output_shape, dtype=float, buffer=mem.buf)\n",
    "\n",
    "    # radiative transfer outputs\n",
    "    data_vars = [\"TB_on\", \"TB_off\"]\n",
    "    for data_var in data_vars:\n",
    "        data[data_var] = {}\n",
    "        for phase_name in _SIM_PHASES.keys():\n",
    "            mem = SharedMemory(\n",
    "                name=f\"{data_var}_{phase_name}\", create=create, size=output_nbytes\n",
    "            )\n",
    "            sh_mem.append(mem)\n",
    "            data[data_var][phase_name] = np.ndarray(\n",
    "                output_shape, dtype=float, buffer=mem.buf\n",
    "            )\n",
    "\n",
    "    return data, sh_mem"
   ]
  },
  {
   "cell_type": "code",
   "execution_count": 4,
   "id": "c6c3eb5a-ddb4-4863-bc0e-9a1663d94158",
   "metadata": {},
   "outputs": [
    {
     "name": "stdout",
     "output_type": "stream",
     "text": [
      "Initializing shared memory...\n"
     ]
    }
   ],
   "source": [
    "import numpy as np\n",
    "\n",
    "# observed spectral axis\n",
    "spec_velocity = np.arange(-150.0, 150.5, 0.5)\n",
    "\n",
    "# shared memory for multiprocessing radiative transfer\n",
    "print(\"Initializing shared memory...\")\n",
    "observe_axis = 1 # observe along y-axis\n",
    "output_shape = (len(spec_velocity),) + tuple(\n",
    "    [shape for i, shape in enumerate(data_shape) if i != observe_axis]\n",
    ")\n",
    "data, sh_mem = load_shared_memory(data_shape, output_shape, create=True)"
   ]
  },
  {
   "cell_type": "markdown",
   "id": "1efafb9c-e385-457f-af14-a3042ee44e7c",
   "metadata": {},
   "source": [
    "## Prepare simulation data"
   ]
  },
  {
   "cell_type": "code",
   "execution_count": 5,
   "id": "b130c5c2-26c7-46fa-8041-7ccad94257dd",
   "metadata": {},
   "outputs": [
    {
     "name": "stdout",
     "output_type": "stream",
     "text": [
      "Extracting simulation data...\n"
     ]
    }
   ],
   "source": [
    "# Extract simulation data\n",
    "print(\"Extracting simulation data...\")\n",
    "sim_data = sim.get_field(['nH', 'xe', 'T', 'pressure', 'vy'], le=le, re=re)\n",
    "data[\"kin_temp\"][:] = sim_data['T'].data.T\n",
    "nHI = sim_data['nH'].data.T * (1.0 - sim_data['xe'].data.T)\n",
    "pressure = sim_data['pressure'].data.T\n",
    "data[\"velocity\"][:] = sim_data['vy'].data.T\n",
    "xe = sim_data['xe'].data.T"
   ]
  },
  {
   "cell_type": "code",
   "execution_count": 6,
   "id": "b5934f44-fdd5-4a5b-9c27-a6d3d20c84be",
   "metadata": {},
   "outputs": [
    {
     "name": "stdout",
     "output_type": "stream",
     "text": [
      "Saving simulation data...\n"
     ]
    }
   ],
   "source": [
    "from astropy.io import fits\n",
    "\n",
    "outdir = \"/media/drive1/tigress_ncr_results/R8_4pc\"\n",
    "\n",
    "# save FITS\n",
    "print(\"Saving simulation data...\")\n",
    "hdu = fits.PrimaryHDU(nHI)\n",
    "hdu.writeto(f\"{outdir}/nHI.fits\", overwrite=True)\n",
    "hdu = fits.PrimaryHDU(pressure)\n",
    "hdu.writeto(f\"{outdir}/pressure.fits\", overwrite=True)\n",
    "hdu = fits.PrimaryHDU(data[\"kin_temp\"])\n",
    "hdu.writeto(f\"{outdir}/kinetic_temperature.fits\", overwrite=True)\n",
    "hdu = fits.PrimaryHDU(data[\"velocity\"])\n",
    "hdu.writeto(f\"{outdir}/velocity.fits\", overwrite=True)\n",
    "hdu = fits.PrimaryHDU(xe)\n",
    "hdu.writeto(f\"{outdir}/xe.fits\", overwrite=True)"
   ]
  },
  {
   "cell_type": "code",
   "execution_count": 7,
   "id": "e05d6593-2530-4191-8614-ee96371a3b26",
   "metadata": {},
   "outputs": [],
   "source": [
    "# cell size (square cells)\n",
    "dx_cm = 1.23427103e+19 # 4 pc\n",
    "\n",
    "# HI column density\n",
    "NHI = nHI.sum(axis=observe_axis) * dx_cm\n",
    "hdu = fits.PrimaryHDU(NHI)\n",
    "hdu.writeto(f\"{outdir}/NHI.fits\", overwrite=True)"
   ]
  },
  {
   "cell_type": "markdown",
   "id": "0edb7e07-bd16-4875-b94b-f4596392b9ef",
   "metadata": {},
   "source": [
    "## Evaluate spin temperature, thermal broadening"
   ]
  },
  {
   "cell_type": "code",
   "execution_count": 8,
   "id": "6342fb4f-6756-4dbb-b997-e1d174cae6bd",
   "metadata": {},
   "outputs": [],
   "source": [
    "def calc_spin_temp(kin_temp, density):\n",
    "    \"\"\"\n",
    "    Calculate the spin temperature following Kim et al. (2014) eq. 4\n",
    "\n",
    "    Inputs:\n",
    "        kin_temp :: scalar (K)\n",
    "            Gas kinetic temperature\n",
    "        density :: scalar (cm-3)\n",
    "            Gas density\n",
    "\n",
    "    Returns:\n",
    "        spin_temp :: scalar (K)\n",
    "            Spin temperature\n",
    "    \"\"\"\n",
    "    TR = 3.77  # CMB\n",
    "    TD = kin_temp\n",
    "    n_alpha = 1.0e-6  # Lya photon number density cm-3\n",
    "    y_alpha = 5.9e11 * n_alpha / (TD * np.sqrt(kin_temp))\n",
    "    T0 = 0.0681  # K\n",
    "    A10 = 2.8843e-15  # s-1 Einstein A\n",
    "    k10 = np.zeros_like(kin_temp)\n",
    "    T2 = kin_temp / 100.0\n",
    "    k10[kin_temp < 300.0] = 1.19e-10 * T2[kin_temp < 300.0] ** (\n",
    "        0.74 - 0.20 * np.log(T2[kin_temp < 300.0])\n",
    "    )\n",
    "    k10[kin_temp > 300.0] = (\n",
    "        2.24e-10 * T2[kin_temp > 300.0] ** 0.207 * np.exp(-0.876 / T2[kin_temp > 300.0])\n",
    "    )\n",
    "    R10 = density * k10\n",
    "    y_c = T0 * R10 / (kin_temp * A10)\n",
    "    spin_temp = (TR + y_c * kin_temp + y_alpha * TD) / (1.0 + y_c + y_alpha)\n",
    "    return spin_temp"
   ]
  },
  {
   "cell_type": "code",
   "execution_count": 9,
   "id": "d4b8211b-e267-4512-ad51-c9cf8d805036",
   "metadata": {},
   "outputs": [
    {
     "name": "stdout",
     "output_type": "stream",
     "text": [
      "Calculating spin temperature...\n"
     ]
    }
   ],
   "source": [
    "wf = False\n",
    "\n",
    "# spin temperature\n",
    "print(\"Calculating spin temperature...\")\n",
    "if wf:\n",
    "    data[\"spin_temp\"][:] = data[\"kin_temp\"]\n",
    "else:\n",
    "    data[\"spin_temp\"][:] = calc_spin_temp(data[\"kin_temp\"], nHI)\n",
    "hdu = fits.PrimaryHDU(data[\"spin_temp\"])\n",
    "hdu.writeto(f\"{outdir}/spin_temperature.fits\", overwrite=True)"
   ]
  },
  {
   "cell_type": "code",
   "execution_count": 10,
   "id": "98408e4f-7ad1-4a1b-a925-ae94d92b39c4",
   "metadata": {},
   "outputs": [
    {
     "name": "stdout",
     "output_type": "stream",
     "text": [
      "Clipping HI phases...\n"
     ]
    }
   ],
   "source": [
    "# HI phase temperature thresholds\n",
    "print(\"Clipping HI phases...\")\n",
    "HI_mask = nHI > 0.0\n",
    "data[\"mask\"] = {}\n",
    "for phase in _SIM_PHASES.keys():\n",
    "    data[\"mask\"][phase] = (\n",
    "        HI_mask.copy() *\n",
    "        (data[\"spin_temp\"] > _SIM_PHASES[phase][\"spin_temp_min\"]) *\n",
    "        (data[\"spin_temp\"] <= _SIM_PHASES[phase][\"spin_temp_max\"])\n",
    "    )\n",
    "    nHI_phase = nHI.copy()\n",
    "    nHI_phase[~data[\"mask\"][phase]] = 0.0\n",
    "    data[\"nHI\"][phase][:] = nHI_phase\n",
    "    NHI_phase = nHI_phase.sum(axis=observe_axis) * dx_cm\n",
    "    data[\"NHI\"][phase][:] = NHI_phase\n",
    "    hdu = fits.PrimaryHDU(nHI_phase)\n",
    "    hdu.writeto(f\"{outdir}/nHI_{phase}.fits\", overwrite=True)\n",
    "    hdu = fits.PrimaryHDU(NHI_phase)\n",
    "    hdu.writeto(f\"{outdir}/NHI_{phase}.fits\", overwrite=True)"
   ]
  },
  {
   "cell_type": "code",
   "execution_count": 11,
   "id": "09661faf-9942-41c0-b905-93c51e90a478",
   "metadata": {},
   "outputs": [],
   "source": [
    "# turbulent broadening, assume 2 km/s on 4 pc scales\n",
    "fwhm_turbulent = 2.0  # km/s\n",
    "\n",
    "# thermal broadening (km/s)\n",
    "fwhm_thermal = 21.4 * np.sqrt(data[\"kin_temp\"] / 1.0e4)\n",
    "hdu = fits.PrimaryHDU(fwhm_thermal)\n",
    "hdu.writeto(f\"{outdir}/fwhm_thermal.fits\", overwrite=True)\n",
    "\n",
    "# line width\n",
    "fwhm = np.sqrt(fwhm_thermal**2.0 + fwhm_turbulent**2.0)\n",
    "data[\"sigma\"][:] = fwhm / (2.0 * np.sqrt(2.0 * np.log(2.0)))\n",
    "\n",
    "# background continuum source\n",
    "Tbg = 1000.0"
   ]
  },
  {
   "cell_type": "markdown",
   "id": "c91bb37e-a237-4be9-a8f6-43d6b8d3feba",
   "metadata": {},
   "source": [
    "## Perform radiative transfer"
   ]
  },
  {
   "cell_type": "code",
   "execution_count": 12,
   "id": "f94cca09-f3c3-4690-81e3-3703fbff686e",
   "metadata": {},
   "outputs": [],
   "source": [
    "def simple_slice(arr, inds, axis):\n",
    "    # this does the same as np.take() except only supports simple slicing, not\n",
    "    # advanced indexing, and thus is much faster\n",
    "    # From: https://stackoverflow.com/questions/24398708/slicing-a-numpy-array-along-a-dynamically-specified-axis\n",
    "    # e.g., simple_slice(arr, 0, 1) == arr[:, 0, :]\n",
    "    # e.g., simple_slice(arr, slice(1, None), 1) == arr[:, 1:, :]\n",
    "    sl = [slice(None)] * arr.ndim\n",
    "    sl[axis] = inds\n",
    "    return arr[tuple(sl)]"
   ]
  },
  {
   "cell_type": "code",
   "execution_count": 13,
   "id": "d87d5277-b698-4b1f-be0f-3443da9b79ff",
   "metadata": {},
   "outputs": [],
   "source": [
    "def radiative_transfer(\n",
    "    idx,\n",
    "    spec_vel,\n",
    "    dx_cm,\n",
    "    Tbg,\n",
    "    axis,\n",
    "    data_shape,\n",
    "    output_shape,\n",
    "):\n",
    "    \"\"\"\n",
    "    Process the radiative transfer for a single pixel.\n",
    "\n",
    "    Inputs:\n",
    "        idx :: integer\n",
    "            Pixel index\n",
    "        spec_vel :: 1-D array of scalars\n",
    "            Spectral velocity axis (km/s)\n",
    "        dx_cm :: scalar\n",
    "            Simulation grid resolution (cm)\n",
    "        Tbg :: scalar\n",
    "            Background brightness temperature for ON observation (K)\n",
    "        axis :: integer\n",
    "            Axis to treat as line-of-sight\n",
    "        data_shape :: tuple\n",
    "            Data shape\n",
    "        output_shape :: tuple\n",
    "            Radiative transfer output shape\n",
    "\n",
    "    Returns:\n",
    "        idx :: integer\n",
    "            Same as input\n",
    "    \"\"\"\n",
    "    # load shared memory\n",
    "    data, _ = load_shared_memory(data_shape, output_shape, create=False)\n",
    "\n",
    "    # radiative transfer constant\n",
    "    const = 1.82243e18  # cm-2 (K km s-1)-1\n",
    "\n",
    "    # background CMB + synchrotron\n",
    "    Tcmb = 3.77  # K\n",
    "\n",
    "    # line profile\n",
    "    line_profile = np.exp(\n",
    "        -0.5 * (data[\"velocity\"] - spec_vel) ** 2.0 / data[\"sigma\"] ** 2.0\n",
    "    ) / np.sqrt(2.0 * np.pi * data[\"sigma\"] ** 2.0)\n",
    "\n",
    "    for phase in _SIM_PHASES.keys():\n",
    "        # optical depth\n",
    "        tau = data[\"nHI\"][phase] * dx_cm * line_profile / data[\"spin_temp\"] / const\n",
    "        sum_tau = np.nancumsum(tau, axis=axis)\n",
    "\n",
    "        # background\n",
    "        TB_back_on = (Tcmb + Tbg) * np.exp(-simple_slice(sum_tau, -1, axis))\n",
    "        TB_back_off = Tcmb * np.exp(-simple_slice(sum_tau, -1, axis))\n",
    "\n",
    "        # front surface\n",
    "        TB_front = simple_slice(data[\"spin_temp\"], 0, axis) * (\n",
    "            1.0 - np.exp(-simple_slice(tau, 0, axis))\n",
    "        )\n",
    "\n",
    "        # everything else\n",
    "        TB_middle = (\n",
    "            simple_slice(data[\"spin_temp\"], slice(1, None), axis)\n",
    "            * (1.0 - np.exp(-simple_slice(tau, slice(1, None), axis)))\n",
    "            * np.exp(-simple_slice(sum_tau, slice(None, -1), axis))\n",
    "        )\n",
    "\n",
    "        data[\"TB_on\"][phase][idx] = (\n",
    "            TB_back_on + np.nansum(TB_middle, axis=axis) + TB_front\n",
    "        )\n",
    "        data[\"TB_off\"][phase][idx] = (\n",
    "            TB_back_off + np.nansum(TB_middle, axis=axis) + TB_front\n",
    "        )\n",
    "    return idx"
   ]
  },
  {
   "cell_type": "code",
   "execution_count": 14,
   "id": "b12c1ef2-a803-4860-b781-771a4aba4ff4",
   "metadata": {},
   "outputs": [
    {
     "name": "stdout",
     "output_type": "stream",
     "text": [
      "Running 24 parallel processes\n",
      "Performing radiative transfer...\n"
     ]
    },
    {
     "data": {
      "application/vnd.jupyter.widget-view+json": {
       "model_id": "31683038aad84829913f307dbcd9d49a",
       "version_major": 2,
       "version_minor": 0
      },
      "text/plain": [
       "  0%|          | 0/601 [00:00<?, ?it/s]"
      ]
     },
     "metadata": {},
     "output_type": "display_data"
    }
   ],
   "source": [
    "from tqdm.notebook import tqdm\n",
    "import multiprocessing as mp\n",
    "\n",
    "num_processes = mp.cpu_count()\n",
    "print(f\"Running {num_processes} parallel processes\")\n",
    "\n",
    "# Track progress\n",
    "print(\"Performing radiative transfer...\")\n",
    "pbar = tqdm(total=len(spec_velocity))\n",
    "\n",
    "def update(result):\n",
    "    pbar.update()\n",
    "\n",
    "with mp.Pool(processes=num_processes) as p:\n",
    "    for idx, spec_vel in enumerate(spec_velocity):\n",
    "        p.apply_async(\n",
    "            radiative_transfer,\n",
    "            args=(\n",
    "                idx,\n",
    "                spec_vel,\n",
    "                dx_cm,\n",
    "                Tbg,\n",
    "                observe_axis,\n",
    "                data_shape,\n",
    "                output_shape,\n",
    "            ),\n",
    "            callback=update,\n",
    "        )\n",
    "    p.close()\n",
    "    p.join()"
   ]
  },
  {
   "cell_type": "code",
   "execution_count": 16,
   "id": "c3ca0115-f8a4-42d9-8ce0-49c0e26dc933",
   "metadata": {},
   "outputs": [],
   "source": [
    "# save FITS\n",
    "for phase in _SIM_PHASES.keys():\n",
    "    hdu = fits.PrimaryHDU(data[\"TB_on\"][phase])\n",
    "    hdu.writeto(f\"{outdir}/HI_{phase}_TB_on.fits\", overwrite=True)\n",
    "    hdu = fits.PrimaryHDU(data[\"TB_off\"][phase])\n",
    "    hdu.writeto(f\"{outdir}/HI_{phase}_TB_off.fits\", overwrite=True)"
   ]
  },
  {
   "cell_type": "code",
   "execution_count": 12,
   "id": "65302e92-dbdb-4bf5-8faa-796789d54631",
   "metadata": {},
   "outputs": [],
   "source": [
    "# free shared memory\n",
    "for mem in sh_mem:\n",
    "    mem.close()\n",
    "    mem.unlink()"
   ]
  },
  {
   "cell_type": "markdown",
   "id": "fca0fb12-45bd-42b1-89c1-b2433a2e591e",
   "metadata": {},
   "source": [
    "## Plot simulation data"
   ]
  },
  {
   "cell_type": "code",
   "execution_count": 13,
   "id": "4e1dd055-31bb-408f-94d1-5ade7f872fd1",
   "metadata": {
    "ExecuteTime": {
     "end_time": "2024-10-19T16:01:27.534625Z",
     "start_time": "2024-10-19T16:01:27.515434Z"
    }
   },
   "outputs": [],
   "source": [
    "# load data\n",
    "from astropy.io import fits\n",
    "\n",
    "outdir = \"/media/drive1/tigress_ncr_results/R8_4pc\"\n",
    "\n",
    "with fits.open(f\"{outdir}/nHI.fits\") as hdulist:\n",
    "    nHI = hdulist[0].data\n",
    "with fits.open(f\"{outdir}/pressure.fits\") as hdulist:\n",
    "    pressure = hdulist[0].data\n",
    "with fits.open(f\"{outdir}/kinetic_temperature.fits\") as hdulist:\n",
    "    kin_temp = hdulist[0].data\n",
    "with fits.open(f\"{outdir}/spin_temperature.fits\") as hdulist:\n",
    "    spin_temp = hdulist[0].data\n",
    "with fits.open(f\"{outdir}/xe.fits\") as hdulist:\n",
    "    xe = hdulist[0].data"
   ]
  },
  {
   "cell_type": "code",
   "execution_count": null,
   "id": "7f7b8764-0f25-49ca-9bed-030edc7475d9",
   "metadata": {},
   "outputs": [],
   "source": [
    "from scipy.stats import norm\n",
    "import matplotlib.pyplot as plt\n",
    "\n",
    "_ = plt.hist(np.log10(nHI[HI_mask]).flatten(), bins=100, density=True)\n",
    "x_pdf = np.linspace(-3.5, 2.0, 100)\n",
    "y_pdf = norm.pdf(x_pdf, loc=-1.0, scale=1.0)\n",
    "_ = plt.plot(x_pdf, y_pdf, 'k-')"
   ]
  },
  {
   "cell_type": "code",
   "execution_count": null,
   "id": "ae24e2ca-43b3-4b4b-9834-33e03e5130c8",
   "metadata": {
    "ExecuteTime": {
     "end_time": "2024-10-19T16:01:39.384483Z",
     "start_time": "2024-10-19T16:01:31.179631Z"
    }
   },
   "outputs": [],
   "source": [
    "phases = {\n",
    "    \"All\": {\"color\": \"black\"},\n",
    "    \"CNM\": {\"color\": \"blue\"},\n",
    "    \"LNM\": {\"color\": \"green\"},\n",
    "    \"WNM\": {\"color\": \"orange\"},\n",
    "}\n",
    "\n",
    "# masks\n",
    "HI_mask = (nHI > 0.0) * (xe < 0.5)\n",
    "phases[\"All\"][\"mask\"] = HI_mask\n",
    "phases[\"CNM\"][\"mask\"] = HI_mask * (spin_temp <= 250.0)\n",
    "phases[\"LNM\"][\"mask\"] = HI_mask * (spin_temp > 250.0) * (spin_temp <= 1000.0)\n",
    "phases[\"WNM\"][\"mask\"] = HI_mask * (spin_temp > 1000.0)\n",
    "for phase in phases.keys():\n",
    "    nHI_phase = nHI.copy()\n",
    "    nHI_phase[~phases[phase][\"mask\"]] = 0.0\n",
    "    phases[phase][\"nHI\"] = nHI_phase"
   ]
  },
  {
   "cell_type": "code",
   "execution_count": null,
   "id": "7cbe362e-5bcc-4402-b909-23fb75163527",
   "metadata": {
    "ExecuteTime": {
     "end_time": "2024-10-19T16:01:58.011626Z",
     "start_time": "2024-10-19T16:01:48.714154Z"
    }
   },
   "outputs": [],
   "source": [
    "import matplotlib.pyplot as plt\n",
    "import numpy as np\n",
    "\n",
    "# phase diagram\n",
    "fig, ax = plt.subplots()\n",
    "cax = ax.hexbin(\n",
    "    np.log10(nHI[HI_mask]).flatten(),\n",
    "    np.log10(kin_temp[HI_mask]).flatten(),\n",
    "    bins=\"log\",\n",
    "    mincnt=1,\n",
    ")\n",
    "cbar = fig.colorbar(cax)\n",
    "cbar.set_label(\"Number of Cells\")\n",
    "ax.set_xlabel(r\"log HI density (cm$^{-3}$)\")\n",
    "ax.set_ylabel(\"log HI temperature (K)\")\n",
    "ax.set_xlim(-4.0, 2.0)\n",
    "ax.set_ylim(1.5, 4.5)\n",
    "fig.savefig(f\"{outdir}/phase.pdf\", bbox_inches=\"tight\")\n",
    "fig.show()"
   ]
  },
  {
   "cell_type": "code",
   "execution_count": null,
   "id": "3da80a86-7e00-4a61-9e36-bbaa89311806",
   "metadata": {
    "ExecuteTime": {
     "end_time": "2024-10-19T16:02:02.322884Z",
     "start_time": "2024-10-19T16:01:58.013367Z"
    }
   },
   "outputs": [],
   "source": [
    "# phase diagram\n",
    "fig, ax = plt.subplots()\n",
    "cax = ax.hexbin(\n",
    "    np.log10(nHI[HI_mask]).flatten(),\n",
    "    np.log10(1.1 * nHI[HI_mask] * kin_temp[HI_mask]).flatten(),\n",
    "    bins=\"log\",\n",
    "    mincnt=1,\n",
    ")\n",
    "cbar = fig.colorbar(cax)\n",
    "cbar.set_label(\"Number of Cells\")\n",
    "ax.set_xlabel(r\"log HI density (cm$^{-3}$)\")\n",
    "ax.set_ylabel(r\"log $(1.1 + xe) n T_K$ (cm$^{-3}$ K)\")\n",
    "ax.set_xlim(-4.0, 2.0)\n",
    "ax.set_ylim(0.0, 7.0)\n",
    "fig.savefig(f\"{outdir}/phase_nT.pdf\", bbox_inches=\"tight\")\n",
    "fig.show()"
   ]
  },
  {
   "cell_type": "code",
   "execution_count": null,
   "id": "de6c8d11",
   "metadata": {
    "ExecuteTime": {
     "end_time": "2024-10-19T16:02:26.506133Z",
     "start_time": "2024-10-19T16:02:25.027461Z"
    }
   },
   "outputs": [],
   "source": [
    "# phase diagram\n",
    "fig, ax = plt.subplots()\n",
    "cax = ax.hexbin(\n",
    "    np.log10(kin_temp[HI_mask]).flatten(),\n",
    "    np.log10(1.1 * nHI[HI_mask] * kin_temp[HI_mask]).flatten(),\n",
    "    bins=\"log\",\n",
    "    mincnt=1,\n",
    ")\n",
    "cbar = fig.colorbar(cax)\n",
    "cbar.set_label(\"Number of Cells\")\n",
    "ax.set_xlabel(r\"log $T_k$ (K)\")\n",
    "ax.set_ylabel(r\"log $(1.1 + xe) n T_K$ (cm$^{-3}$ K)\")\n",
    "#ax.set_xlim(-4.0, 2.0)\n",
    "ax.set_ylim(0.0, 7.0)\n",
    "fig.savefig(f\"{outdir}/phase_nT.pdf\", bbox_inches=\"tight\")\n",
    "fig.show()"
   ]
  },
  {
   "cell_type": "code",
   "execution_count": null,
   "id": "8a6371cf-9f84-42dc-81e6-bbff00db9fac",
   "metadata": {
    "ExecuteTime": {
     "end_time": "2024-10-19T16:02:05.750070Z",
     "start_time": "2024-10-19T16:02:02.324041Z"
    }
   },
   "outputs": [],
   "source": [
    "# phase diagram\n",
    "fig, ax = plt.subplots()\n",
    "cax = ax.hexbin(\n",
    "    np.log10(nHI[HI_mask]).flatten(),\n",
    "    np.log10((1.1 + xe[HI_mask]) * nHI[HI_mask] * kin_temp[HI_mask]).flatten(),\n",
    "    bins=\"log\",\n",
    "    mincnt=1,\n",
    ")\n",
    "cbar = fig.colorbar(cax)\n",
    "cbar.set_label(\"Number of Cells\")\n",
    "ax.set_xlabel(r\"log HI density (cm$^{-3}$)\")\n",
    "ax.set_ylabel(r\"log $(1.1 + xe) n T_K$ (cm$^{-3}$ K)\")\n",
    "ax.set_xlim(-4.0, 2.0)\n",
    "ax.set_ylim(0.0, 7.0)\n",
    "fig.savefig(f\"{outdir}/phase_xenT.pdf\", bbox_inches=\"tight\")\n",
    "fig.show()"
   ]
  },
  {
   "cell_type": "code",
   "execution_count": null,
   "id": "f58a9ec9-cf20-4159-aede-f8e223278a8a",
   "metadata": {},
   "outputs": [],
   "source": [
    "# phase diagram\n",
    "fig, ax = plt.subplots()\n",
    "cax = ax.hexbin(\n",
    "    np.log10(nHI[HI_mask]).flatten(),\n",
    "    np.log10(pressure[HI_mask]).flatten(),\n",
    "    bins=\"log\",\n",
    "    mincnt=1,\n",
    ")\n",
    "cbar = fig.colorbar(cax)\n",
    "cbar.set_label(\"Number of Cells\")\n",
    "ax.set_xlabel(r\"log HI density (cm$^{-3}$)\")\n",
    "ax.set_ylabel(r\"log $P_{\\rm th}/k_B$ (cm$^{-3}$ K)\")\n",
    "ax.set_xlim(-4.0, 2.0)\n",
    "ax.set_ylim(0.0, 7.0)\n",
    "fig.savefig(f\"{outdir}/phase_pressure.pdf\", bbox_inches=\"tight\")\n",
    "fig.show()"
   ]
  },
  {
   "cell_type": "code",
   "execution_count": null,
   "id": "5b65bbcb-f897-45f2-bae0-823fb145886a",
   "metadata": {},
   "outputs": [],
   "source": [
    "# ionization fraction vs. temperature\n",
    "fig, ax = plt.subplots()\n",
    "cax = ax.hexbin(\n",
    "    np.log10(kin_temp[HI_mask]).flatten(),\n",
    "    xe[HI_mask].flatten(),\n",
    "    bins=\"log\",\n",
    "    mincnt=1,\n",
    ")\n",
    "cbar = fig.colorbar(cax)\n",
    "cbar.set_label(\"Number of Cells\")\n",
    "ax.set_xlabel(\"log HI temperature (K)\")\n",
    "ax.set_ylabel(\"HI Fraction\")\n",
    "ax.set_xlim(1.5, 4.5)\n",
    "ax.set_ylim(-0.05, 1.05)\n",
    "fig.savefig(f\"{outdir}/xHI_temperature.pdf\", bbox_inches=\"tight\")\n",
    "fig.show()"
   ]
  },
  {
   "cell_type": "code",
   "execution_count": null,
   "id": "6d9339e5-4a56-4e06-a332-dcf5978a2de7",
   "metadata": {},
   "outputs": [],
   "source": [
    "# ionization fraction vs. density\n",
    "fig, ax = plt.subplots()\n",
    "cax = ax.hexbin(\n",
    "    np.log10(nHI[HI_mask]).flatten(),\n",
    "    xe[HI_mask].flatten(),\n",
    "    bins=\"log\",\n",
    "    mincnt=1,\n",
    ")\n",
    "cbar = fig.colorbar(cax)\n",
    "cbar.set_label(\"Number of Cells\")\n",
    "ax.set_xlabel(r\"log HI density (cm$^{-3}$)\")\n",
    "ax.set_ylabel(\"HI Fraction\")\n",
    "ax.set_xlim(-4.0, 2.0)\n",
    "ax.set_ylim(-0.05, 1.05)\n",
    "fig.savefig(f\"{outdir}/xHI_density.pdf\", bbox_inches=\"tight\")\n",
    "fig.show()"
   ]
  },
  {
   "cell_type": "code",
   "execution_count": null,
   "id": "cd851b29-699c-4637-8076-559eb5375dd3",
   "metadata": {},
   "outputs": [],
   "source": [
    "# density histogram\n",
    "fig, ax = plt.subplots()\n",
    "bins = np.linspace(-4.0, 2.0, 100)\n",
    "ax.hist(\n",
    "    np.log10(nHI[HI_mask]).flatten(),\n",
    "    bins=bins,\n",
    "    color=\"k\",\n",
    "    histtype=\"step\",\n",
    "    label=\"All\",\n",
    ")\n",
    "for phase in phases.keys():\n",
    "    nHI_phase = phases[phase][\"nHI\"]\n",
    "    mask = phases[phase][\"mask\"]\n",
    "    ax.hist(\n",
    "        np.log10(nHI_phase[mask]).flatten(),\n",
    "        bins=bins,\n",
    "        color=phases[phase][\"color\"],\n",
    "        histtype=\"step\",\n",
    "        label=phase,\n",
    "    )\n",
    "ax.legend(loc=\"best\")\n",
    "ax.set_yscale(\"log\")\n",
    "ax.set_xlim(-4.0, 2.0)\n",
    "ax.set_xlabel(r\"log HI density (cm$^{-3}$)\")\n",
    "ax.set_ylabel(\"Number of Cells\")\n",
    "fig.savefig(f\"{outdir}/HI_density_pdf.pdf\", bbox_inches=\"tight\")\n",
    "fig.show()"
   ]
  },
  {
   "cell_type": "code",
   "execution_count": null,
   "id": "32579fce-6a31-4345-84cd-1857256a052a",
   "metadata": {},
   "outputs": [],
   "source": [
    "# temperature histogram\n",
    "fig, ax = plt.subplots()\n",
    "bins = np.linspace(1.5, 4.5, 100)\n",
    "ax.hist(\n",
    "    np.log10(kin_temp[HI_mask]).flatten(),\n",
    "    bins=bins,\n",
    "    color=\"k\",\n",
    "    histtype=\"step\",\n",
    "    label=\"All\",\n",
    ")\n",
    "for phase in phases.keys():\n",
    "    mask = phases[phase][\"mask\"]\n",
    "    ax.hist(\n",
    "        np.log10(kin_temp[mask]).flatten(),\n",
    "        bins=bins,\n",
    "        color=phases[phase][\"color\"],\n",
    "        histtype=\"step\",\n",
    "        label=phase,\n",
    "    )\n",
    "ax.legend(loc=\"best\")\n",
    "ax.set_yscale(\"log\")\n",
    "ax.set_xlim(1.5, 4.5)\n",
    "ax.set_xlabel(\"log HI temperature (K)\")\n",
    "ax.set_ylabel(\"Number of Cells\")\n",
    "fig.savefig(f\"{outdir}/HI_temperature_pdf.pdf\", bbox_inches=\"tight\")\n",
    "fig.show()"
   ]
  },
  {
   "cell_type": "code",
   "execution_count": null,
   "id": "4f585b8b-8404-4efa-bcf7-e5017964f7b5",
   "metadata": {},
   "outputs": [],
   "source": [
    "# spin temperature vs. kinetic temperature\n",
    "fig, ax = plt.subplots()\n",
    "cax = ax.hexbin(\n",
    "    kin_temp[HI_mask].flatten(),\n",
    "    spin_temp[HI_mask].flatten(),\n",
    "    bins=\"log\",\n",
    "    mincnt=1,\n",
    ")\n",
    "ax.plot([0.0, 15000.0], [0.0, 15000.0], \"k--\")\n",
    "cbar = fig.colorbar(cax)\n",
    "cbar.set_label(\"Number of Cells\")\n",
    "ax.set_xlabel(\"HI temperature (K)\")\n",
    "ax.set_ylabel(\"HI spin temperature (K)\")\n",
    "ax.set_xlim(0.0, 15000.0)\n",
    "ax.set_ylim(0.0, 15000.0)\n",
    "fig.savefig(f\"{outdir}/HI_spin_temp_temperature.pdf\", bbox_inches=\"tight\")\n",
    "fig.show()"
   ]
  },
  {
   "cell_type": "code",
   "execution_count": null,
   "id": "90cd6d84-d187-4d05-b34a-018a61ff8c74",
   "metadata": {},
   "outputs": [],
   "source": [
    "# spin temperature vs. density\n",
    "fig, ax = plt.subplots()\n",
    "cax = ax.hexbin(\n",
    "    np.log10(nHI[HI_mask]).flatten(),\n",
    "    np.log10(spin_temp[HI_mask]).flatten(),\n",
    "    bins=\"log\",\n",
    "    mincnt=1,\n",
    ")\n",
    "cbar = fig.colorbar(cax)\n",
    "cbar.set_label(\"Number of Cells\")\n",
    "ax.set_xlabel(f\"log HI density (cm$^{-3}$)\")\n",
    "ax.set_ylabel(\"log HI spin temperature (K)\")\n",
    "ax.set_xlim(-4.0, 2.0)\n",
    "ax.set_ylim(1.5, 4.5)\n",
    "fig.savefig(f\"{outdir}/HI_spin_temp_density.pdf\", bbox_inches=\"tight\")\n",
    "fig.show()"
   ]
  },
  {
   "cell_type": "markdown",
   "id": "72a38fd5-960d-478d-acf8-d33b7f78be16",
   "metadata": {},
   "source": [
    "## Smooth data"
   ]
  },
  {
   "cell_type": "code",
   "execution_count": 14,
   "id": "2b75644e-67f6-4817-8989-a7f55b4ef529",
   "metadata": {
    "ExecuteTime": {
     "end_time": "2024-10-26T01:23:31.670517Z",
     "start_time": "2024-10-26T01:21:11.779105Z"
    }
   },
   "outputs": [
    {
     "name": "stdout",
     "output_type": "stream",
     "text": [
      "3\n",
      "All\n",
      "CNM\n",
      "LNM\n",
      "WNM\n",
      "10\n",
      "All\n",
      "CNM\n",
      "LNM\n",
      "WNM\n"
     ]
    }
   ],
   "source": [
    "from astropy.io import fits\n",
    "import numpy as np\n",
    "from scipy.ndimage import gaussian_filter\n",
    "\n",
    "_PHASE_NAMES = [\"All\", \"CNM\", \"LNM\", \"WNM\"]\n",
    "\n",
    "outdir = \"/media/drive1/tigress_ncr_results/R8_4pc\"\n",
    "\n",
    "# Assumed CMB background brightness temperature\n",
    "Tcmb = 3.77\n",
    "\n",
    "# Assumed ON source brightness temperature\n",
    "Tbg = 1000.0\n",
    "\n",
    "# Smooth to mimic emission observations\n",
    "# FWHM = 3 pixels\n",
    "# FWHM = 10 pixels\n",
    "for fwhm in [3, 10]:\n",
    "    print(fwhm)\n",
    "    sigma = fwhm/(2.0*np.sqrt(2.0*np.log(2.0)))\n",
    "    for phase in _PHASE_NAMES:\n",
    "        print(phase)\n",
    "        # ON source brightness temperature, smoothed along spatial axes\n",
    "        with fits.open(f\"{outdir}/HI_{phase}_TB_on.fits\") as hdulist:\n",
    "            TB_on = hdulist[0].data\n",
    "        smooth_TB_on = gaussian_filter(TB_on, sigma=sigma, axes=[1, 2], mode=\"wrap\")\n",
    "        hdu = fits.PrimaryHDU(smooth_TB_on)\n",
    "        hdu.writeto(f\"{outdir}/HI_{phase}_TB_on_smooth_{fwhm}pix.fits\", overwrite=True)\n",
    "    \n",
    "        # Off source brightness temperature, smoothed along spatial axes\n",
    "        with fits.open(f\"{outdir}/HI_{phase}_TB_off.fits\") as hdulist:\n",
    "            TB_off = hdulist[0].data\n",
    "        smooth_TB_off = gaussian_filter(TB_off, sigma=sigma, axes=[1, 2], mode=\"wrap\")\n",
    "        hdu = fits.PrimaryHDU(smooth_TB_off)\n",
    "        hdu.writeto(f\"{outdir}/HI_{phase}_TB_off_smooth_{fwhm}pix.fits\", overwrite=True)\n",
    "        \n",
    "        # Column density\n",
    "        with fits.open(f\"{outdir}/NHI_{phase}.fits\") as hdulist:\n",
    "            NHI = hdulist[0].data\n",
    "        smooth_NHI = gaussian_filter(NHI, sigma=sigma, axes=[0, 1], mode=\"wrap\")\n",
    "        hdu = fits.PrimaryHDU(smooth_NHI)\n",
    "        hdu.writeto(f\"{outdir}/NHI_{phase}_smooth_{fwhm}pix.fits\", overwrite=True)\n",
    "        \n",
    "    # Calculate, save optical depth\n",
    "    tau = -np.log((TB_on - TB_off) / Tbg)\n",
    "    hdu = fits.PrimaryHDU(tau)\n",
    "    hdu.writeto(f\"{outdir}/HI_{phase}_tau.fits\", overwrite=True)"
   ]
  },
  {
   "cell_type": "markdown",
   "id": "5132103e",
   "metadata": {},
   "source": [
    "## Optical Depth and Brightness Temperature Weights"
   ]
  },
  {
   "cell_type": "code",
   "execution_count": null,
   "id": "0e888469",
   "metadata": {
    "ExecuteTime": {
     "end_time": "2024-10-26T17:34:29.974715Z",
     "start_time": "2024-10-26T17:34:23.729447Z"
    }
   },
   "outputs": [],
   "source": [
    "# optical depth and TB weights\n",
    "with fits.open(f\"{outdir}/nHI.fits\") as hdulist:\n",
    "    density = hdulist[0].data\n",
    "with fits.open(f\"{outdir}/spin_temperature.fits\") as hdulist:\n",
    "    spin_temperature = hdulist[0].data\n",
    "with fits.open(f\"{outdir}/fwhm_thermal.fits\") as hdulist:\n",
    "    fwhm_thermal = hdulist[0].data\n",
    "density[density <= 0.0] = 0.0\n",
    "spin_temperature[spin_temperature <= 0.0] = 1.0e-10\n",
    "tau_weights = density / spin_temperature / (fwhm_thermal + 2.0) # 2 km/s non-thermal broadening per cell\n",
    "TB_weights = density / (fwhm_thermal + 2.0) # optically-thin approx\n",
    "print(f\"tau_weights nan: {np.sum(np.isnan(tau_weights))}\")\n",
    "print(f\"TB_weights nan: {np.sum(np.isnan(TB_weights))}\")\n",
    "hdu = fits.PrimaryHDU(tau_weights)\n",
    "hdu.writeto(f\"{outdir}/tau_weights.fits\", overwrite=True)\n",
    "hdu = fits.PrimaryHDU(TB_weights)\n",
    "hdu.writeto(f\"{outdir}/TB_weights.fits\", overwrite=True)"
   ]
  },
  {
   "cell_type": "markdown",
   "id": "40162b92-0e24-4137-ab58-780c97726e4c",
   "metadata": {},
   "source": [
    "## Extract spectra"
   ]
  },
  {
   "cell_type": "code",
   "execution_count": 19,
   "id": "d004be75-c20f-4375-bea7-fa7974b14393",
   "metadata": {
    "ExecuteTime": {
     "end_time": "2024-10-31T14:21:54.050316Z",
     "start_time": "2024-10-31T14:21:53.985075Z"
    }
   },
   "outputs": [
    {
     "name": "stdout",
     "output_type": "stream",
     "text": [
      "[27167 56602 74460  5819 62858 77767 10746  2195 38586 65729]\n",
      "1000\n"
     ]
    }
   ],
   "source": [
    "import numpy as np\n",
    "from astropy.io import fits\n",
    "\n",
    "rng = np.random.RandomState(seed=1234)\n",
    "outdir = \"/media/drive1/tigress_ncr_results/R8_4pc\"\n",
    "\n",
    "# background CMB + synchrotron\n",
    "Tcmb = 3.77  # K\n",
    "# background continuum source\n",
    "Tbg = 1000.0\n",
    "\n",
    "# Optical depth rms = 0.001 to mimic 21-SPONGE\n",
    "# Emission rms = 0.2 K to mimic 21-SPONGE\n",
    "tau_rms = 0.001\n",
    "TB_rms = 0.2\n",
    "\n",
    "# velocity axis\n",
    "velocity = np.arange(-150.0, 150.1, 0.5)\n",
    "\n",
    "# get data\n",
    "with fits.open(f\"{outdir}/HI_All_TB_on.fits\") as hdulist:\n",
    "    TB_on = hdulist[0].data\n",
    "    \n",
    "with fits.open(f\"{outdir}/HI_All_TB_off.fits\") as hdulist:\n",
    "    TB_off = hdulist[0].data\n",
    "\n",
    "num_spectra = np.prod(TB_on.shape[1:])\n",
    "sample_spectra = 1000\n",
    "sample_idx = rng.choice(np.arange(num_spectra), size=sample_spectra, replace=False)\n",
    "print(sample_idx[0:10])\n",
    "print(len(sample_idx))\n",
    "\n",
    "x_grid, y_grid = np.mgrid[:TB_on.shape[1], :TB_on.shape[2]]\n",
    "radius = np.sqrt((x_grid-2)**2.0 + (y_grid-2)**2.0)"
   ]
  },
  {
   "cell_type": "code",
   "execution_count": 22,
   "id": "9d601e2a-ef49-4de7-8a69-ddc50af46390",
   "metadata": {
    "ExecuteTime": {
     "end_time": "2024-10-28T15:16:54.579124Z",
     "start_time": "2024-10-28T15:15:21.547390Z"
    }
   },
   "outputs": [
    {
     "name": "stdout",
     "output_type": "stream",
     "text": [
      "Extracting spectra (fwhm=1)...\n"
     ]
    },
    {
     "data": {
      "application/vnd.jupyter.widget-view+json": {
       "model_id": "f74bf41d853648e2970b1a1cd126855e",
       "version_major": 2,
       "version_minor": 0
      },
      "text/plain": [
       "  0%|          | 0/1000 [00:00<?, ?it/s]"
      ]
     },
     "metadata": {},
     "output_type": "display_data"
    },
    {
     "name": "stdout",
     "output_type": "stream",
     "text": [
      "fwhm: 1 annulus area: 8 pixels\n"
     ]
    },
    {
     "name": "stderr",
     "output_type": "stream",
     "text": [
      "/tmp/ipykernel_730846/1190706099.py:154: FutureWarning: `rcond` parameter will change to the default of machine precision times ``max(M, N)`` where M and N are the input matrix dimensions.\n",
      "To use the future default and silence this warning we advise to pass `rcond=None`, to keep using the old, explicitly pass `rcond=-1`.\n",
      "  coeff, sum_res2, rank, s = np.linalg.lstsq(X, TB_off_chan)\n"
     ]
    },
    {
     "name": "stdout",
     "output_type": "stream",
     "text": [
      "Extracting spectra (fwhm=3)...\n"
     ]
    },
    {
     "data": {
      "application/vnd.jupyter.widget-view+json": {
       "model_id": "9389b54f128841a59ddae8aa7521be24",
       "version_major": 2,
       "version_minor": 0
      },
      "text/plain": [
       "  0%|          | 0/1000 [00:00<?, ?it/s]"
      ]
     },
     "metadata": {},
     "output_type": "display_data"
    },
    {
     "name": "stdout",
     "output_type": "stream",
     "text": [
      "fwhm: 3 annulus area: 36 pixels\n",
      "Extracting spectra (fwhm=10)...\n"
     ]
    },
    {
     "data": {
      "application/vnd.jupyter.widget-view+json": {
       "model_id": "5924cd85733d4dd994508f715efc6248",
       "version_major": 2,
       "version_minor": 0
      },
      "text/plain": [
       "  0%|          | 0/1000 [00:00<?, ?it/s]"
      ]
     },
     "metadata": {},
     "output_type": "display_data"
    },
    {
     "name": "stdout",
     "output_type": "stream",
     "text": [
      "fwhm: 10 annulus area: 336 pixels\n"
     ]
    }
   ],
   "source": [
    "from tqdm.notebook import tqdm\n",
    "import pickle\n",
    "import copy\n",
    "\n",
    "_TIGRESS_RESULT = {\n",
    "    \"All_log10_NHI_tau\": -np.inf,\n",
    "    \"All_log10_NHI_TB\": -np.inf,\n",
    "    \"CNM_log10_NHI_tau\": -np.inf,\n",
    "    \"CNM_log10_NHI_TB\": -np.inf,\n",
    "    \"LNM_log10_NHI_tau\": -np.inf,\n",
    "    \"LNM_log10_NHI_TB\": -np.inf,\n",
    "    \"WNM_log10_NHI_tau\": -np.inf,\n",
    "    \"WNM_log10_NHI_TB\": -np.inf,\n",
    "    \"CNM_fraction_tau\": -np.inf,\n",
    "    \"CNM_fraction_TB\": -np.inf,\n",
    "    \"LNM_fraction_tau\": -np.inf,\n",
    "    \"LNM_fraction_TB\": -np.inf,\n",
    "    \"WNM_fraction_tau\": -np.inf,\n",
    "    \"WNM_fraction_TB\": -np.inf,\n",
    "    \"tau_weighted_tspin\": np.nan,\n",
    "    \"log10_pressure_TB\": [],\n",
    "    \"log10_pressure_tau\": [],\n",
    "    \"log10_NHI_TB\": [],\n",
    "    \"log10_NHI_tau\": [],\n",
    "    \"log10_nHI_TB\": [],\n",
    "    \"log10_nHI_tau\": [],\n",
    "    \"log10_tkin_TB\": [],\n",
    "    \"log10_tkin_tau\": [],\n",
    "    \"tspin_TB\": [],\n",
    "    \"tspin_tau\": [],\n",
    "}\n",
    "tigress_results = {}\n",
    "\n",
    "_SIM_PHASES = {\n",
    "    \"CNM\": {\"color\": \"blue\", \"spin_temp_min\": 0.0, \"spin_temp_max\": 400.0},\n",
    "    \"LNM\": {\"color\": \"green\", \"spin_temp_min\": 400.0, \"spin_temp_max\": 4000.0},\n",
    "    \"WNM\": {\"color\": \"orange\", \"spin_temp_min\": 4000.0, \"spin_temp_max\": np.inf},\n",
    "    \"All\": {\"color\": \"black\", \"spin_temp_min\": 0.0, \"spin_temp_max\": np.inf},\n",
    "}\n",
    "    \n",
    "# get physics\n",
    "NHI = {}\n",
    "for phase in _SIM_PHASES.keys():\n",
    "    with fits.open(f\"{outdir}/NHI_{phase}.fits\") as hdulist:\n",
    "        NHI[phase] = hdulist[0].data\n",
    "with fits.open(f\"{outdir}/nHI.fits\") as hdulist:\n",
    "    density = hdulist[0].data\n",
    "with fits.open(f\"{outdir}/kinetic_temperature.fits\") as hdulist:\n",
    "    kinetic_temperature = hdulist[0].data\n",
    "with fits.open(f\"{outdir}/spin_temperature.fits\") as hdulist:\n",
    "    spin_temperature = hdulist[0].data\n",
    "with fits.open(f\"{outdir}/fwhm_thermal.fits\") as hdulist:\n",
    "    fwhm_thermal = hdulist[0].data\n",
    "with fits.open(f\"{outdir}/TB_weights.fits\") as hdulist:\n",
    "    TB_weights = hdulist[0].data\n",
    "with fits.open(f\"{outdir}/tau_weights.fits\") as hdulist:\n",
    "    tau_weights = hdulist[0].data\n",
    "    \n",
    "# catch non-physical\n",
    "density[density <= 0.0] = 0.0\n",
    "spin_temperature[spin_temperature <= 0.0] = 1.0e-10\n",
    "\n",
    "for fwhm in [1, 3, 10]:\n",
    "#for fwhm in [3]:\n",
    "    sigma = fwhm/(2.0*np.sqrt(2.0*np.log(2.0)))\n",
    "    tigress_results[fwhm] = {}\n",
    "    \n",
    "    # Get smoothed data\n",
    "    if fwhm > 1:\n",
    "        NHI_smooth = {}\n",
    "        for phase in _SIM_PHASES:\n",
    "            with fits.open(f\"{outdir}/NHI_{phase}_smooth_{fwhm}pix.fits\") as hdulist:\n",
    "                NHI_smooth[phase] = hdulist[0].data\n",
    "        with fits.open(f\"{outdir}/HI_All_TB_on_smooth_{fwhm}pix.fits\") as hdulist:\n",
    "            TB_on_smooth = hdulist[0].data\n",
    "        with fits.open(f\"{outdir}/HI_All_TB_off_smooth_{fwhm}pix.fits\") as hdulist:\n",
    "            TB_off_smooth = hdulist[0].data\n",
    "    else:\n",
    "        NHI_smooth = NHI\n",
    "        TB_on_smooth = TB_on\n",
    "        TB_off_smooth = TB_off\n",
    "\n",
    "    location = np.ones((sample_spectra, 2)) * np.nan\n",
    "    \n",
    "    # N.B. none of these account for the increase in noise due to HI emission\n",
    "    \n",
    "    # mismatched spectra\n",
    "    # pretend we can magically turn off the background continuum source\n",
    "    # emission is at smoothed FWHM, noise is theoretical\n",
    "    # absorption is always pencilbeam, noise is theoretical\n",
    "    # at fwhm = 0, emission and absorption are both pencilbeam\n",
    "    mismatched_emission_spectra = np.ones((sample_spectra, len(velocity))) * np.nan\n",
    "    mismatched_absorption_spectra = np.ones((sample_spectra, len(velocity))) * np.nan\n",
    "    \n",
    "    # matched spectra\n",
    "    # there can STILL be emission not seen in absorption, so we should still use the\n",
    "    # mismatched model to fit these data.\n",
    "    # simulate single dish or interferometer emission + absorption spectrum\n",
    "    # following HT03, emission is 2d polynomial fit to annulus [1, sqrt(2)] FWHM\n",
    "    # emission noise is estimated from std. dev. of residuals in annulus\n",
    "    # absorption is always pencilbeam, noise is theoretical\n",
    "    # for single dish, optical depth is derived from emission AND absorption, thus\n",
    "    # coupling the data. This is beyond the scope of what we are testing\n",
    "    # I.E. DON'T DO THIS! NEED INDEPENDENT SPECTRA!\n",
    "    matched_emission_spectra = np.ones((sample_spectra, len(velocity))) * np.nan\n",
    "    matched_emission_spectra_err = np.ones((sample_spectra, len(velocity))) * np.nan\n",
    "\n",
    "    # Track progress\n",
    "    print(f\"Extracting spectra (fwhm={fwhm})...\")\n",
    "    pbar = tqdm(total=sample_spectra)\n",
    "    for i, idx in enumerate(sample_idx):\n",
    "        x, z = np.unravel_index(idx, TB_off.shape[1:])\n",
    "        location[i] = np.array([x, z])\n",
    "\n",
    "        # mismatched absorption spectrum is always pencilbeam\n",
    "        mismatched_emission_spectra[i] = TB_off_smooth[:, x, z] - Tcmb + TB_rms*rng.randn(len(velocity))\n",
    "        mismatched_absorption_spectra[i] = 1.0 - (TB_on[:, x, z] - TB_off[:, x, z]) / Tbg + tau_rms*rng.randn(len(velocity))\n",
    "        \n",
    "        # annulus [fwhm, 2*fwhm] centered on (x, y)\n",
    "        x_off = x_grid - x\n",
    "        y_off = y_grid - z\n",
    "        radius = np.sqrt(x_off**2.0 + y_off**2.0)\n",
    "        good_radius = (radius >= fwhm - 0.1) * (radius <= np.sqrt(2.0)*fwhm + 0.1)\n",
    "        x_good = x_off[good_radius].flatten()\n",
    "        y_good = y_off[good_radius].flatten()\n",
    "        if i == 0:\n",
    "            print(f\"fwhm: {fwhm} annulus area: {good_radius.sum()} pixels\")\n",
    "        if fwhm > 1:\n",
    "            X = np.array([\n",
    "                np.ones_like(x_good),\n",
    "                x_good,\n",
    "                y_good,\n",
    "                x_good*y_good,\n",
    "                x_good**2.0,\n",
    "                y_good**2.0,\n",
    "                x_good**2.0*y_good,\n",
    "                x_good*y_good**2.0,\n",
    "                x_good**2.0*y_good**2.0,\n",
    "            ]).T\n",
    "        else:\n",
    "            X = np.array([\n",
    "                np.ones_like(x_good),\n",
    "                x_good,\n",
    "                y_good,\n",
    "                x_good*y_good,\n",
    "            ]).T\n",
    "        TB_off_good = TB_off_smooth[:, good_radius] - Tcmb\n",
    "        \n",
    "        # loop over channels\n",
    "        for chan in range(TB_off_good.shape[0]):\n",
    "            TB_off_chan = TB_off_good[chan].flatten()\n",
    "            \n",
    "            # least squares\n",
    "            coeff, sum_res2, rank, s = np.linalg.lstsq(X, TB_off_chan)\n",
    "            \n",
    "            # coeff[0] is the centroid prediction\n",
    "            matched_emission_spectra[i][chan] = coeff[0] + TB_rms*rng.randn()\n",
    "            \n",
    "            # estimate residuals\n",
    "            matched_emission_spectra_err[i][chan] = TB_rms\n",
    "            if len(sum_res2) > 0:\n",
    "                matched_emission_spectra_err[i][chan] += np.sqrt(sum_res2[0] / len(TB_off_chan))\n",
    "                \n",
    "        # Calculate physical properties\n",
    "        tigress_results[fwhm][i] = copy.deepcopy(_TIGRESS_RESULT)\n",
    "        tigress_results[fwhm][i][\"All_log10_NHI_tau\"] = np.log10(NHI[\"All\"][x, z])\n",
    "        tigress_results[fwhm][i][\"All_log10_NHI_TB\"] = np.log10(NHI_smooth[\"All\"][x, z])\n",
    "        tigress_results[fwhm][i][\"tau_weighted_tspin\"] = np.average(spin_temperature[x, :, z], weights=tau_weights[x, :, z])\n",
    "        \n",
    "        # TIGRESS resolution = 4 pc\n",
    "        res = 19.0914105365501  # log10(4 pc) in cm\n",
    "        \n",
    "        if fwhm > 1:\n",
    "            # kernels for weighted physical properties\n",
    "            # tau-weights are always pencilbeam\n",
    "            kernel_axis = np.linspace(-np.ceil(4*sigma), np.ceil(4*sigma)+1).astype(int)\n",
    "            kx, kz = np.meshgrid(kernel_axis, kernel_axis, indexing='ij')\n",
    "            kr2 = kx**2.0 + kz**2.0\n",
    "            kx += x\n",
    "            kz += z\n",
    "            beam_kernel = np.exp(-4.0*np.log(2.0)*kr2/fwhm**2.0)\n",
    "            \n",
    "            # wrap kernel at edges\n",
    "            kx[kx >= TB_weights.shape[0]] = kx[kx >= TB_weights.shape[0]] - TB_weights.shape[0]\n",
    "            kz[kz >= TB_weights.shape[2]] = kz[kz >= TB_weights.shape[2]] - TB_weights.shape[2]\n",
    "            \n",
    "            # kernel\n",
    "            kernel_TB = np.array([(beam_kernel * TB_weights[kx, j, kz]).flatten() for j in range(TB_weights.shape[1])])\n",
    "\n",
    "            # weighted spin temperature\n",
    "            tigress_results[fwhm][i][\"tspin_tau\"] = spin_temperature[x, :, z]\n",
    "            tigress_results[fwhm][i][\"tspin_TB\"] = np.array([\n",
    "                np.sum(kernel_TB[j] * spin_temperature[kx, j, kz].flatten())/np.sum(kernel_TB[j])\n",
    "                for j in range(TB_weights.shape[1])\n",
    "            ])\n",
    "\n",
    "            # weighted kinetic temperature\n",
    "            tigress_results[fwhm][i][\"log10_tkin_tau\"] = np.log10(kinetic_temperature[x, :, z])\n",
    "            tigress_results[fwhm][i][\"log10_tkin_TB\"] = np.log10(np.array([\n",
    "                np.sum(kernel_TB[j] * kinetic_temperature[kx, j, kz].flatten())/np.sum(kernel_TB[j])\n",
    "                for j in range(TB_weights.shape[1])\n",
    "            ]))\n",
    "            \n",
    "            # weighted column\n",
    "            tigress_results[fwhm][i][\"log10_NHI_tau\"] = np.log10(density[x, :, z]) + res\n",
    "            tigress_results[fwhm][i][\"log10_NHI_TB\"] = np.log10(np.array([\n",
    "                np.sum(beam_kernel.flatten() * density[kx, j, kz].flatten())/np.sum(beam_kernel)\n",
    "                for j in range(TB_weights.shape[1])\n",
    "            ])) + res\n",
    "            \n",
    "            # weighted density\n",
    "            tigress_results[fwhm][i][\"log10_nHI_tau\"] = np.log10(density[x, :, z])\n",
    "            tigress_results[fwhm][i][\"log10_nHI_TB\"] = np.log10(np.array([\n",
    "                np.sum(kernel_TB[j] * density[kx, j, kz].flatten())/np.sum(kernel_TB[j])\n",
    "                for j in range(TB_weights.shape[1])\n",
    "            ]))\n",
    "            \n",
    "            # weighted pressure\n",
    "            tigress_results[fwhm][i][\"log10_pressure_tau\"] = np.log10(1.1 * density[x, :, z] * kinetic_temperature[x, :, z])\n",
    "            tigress_results[fwhm][i][\"log10_pressure_TB\"] = np.log10(np.array([\n",
    "                np.sum(kernel_TB[j] * (1.1 * density[kx, j, kz] * kinetic_temperature[kx, j, kz]).flatten())\n",
    "                / np.sum(kernel_TB[j])\n",
    "                for j in range(TB_weights.shape[1])\n",
    "            ]))\n",
    "            \n",
    "            # phase fraction\n",
    "            for phase in [\"CNM\", \"LNM\", \"WNM\"]:\n",
    "                phase_fraction = NHI[phase]/NHI[\"All\"]\n",
    "                \n",
    "                tigress_results[fwhm][i][f\"{phase}_log10_NHI_tau\"] = np.log10(NHI[phase][x, z])\n",
    "                tigress_results[fwhm][i][f\"{phase}_fraction_tau\"] = phase_fraction[x, z]\n",
    "                \n",
    "                tigress_results[fwhm][i][f\"{phase}_fraction_TB\"] = np.sum(beam_kernel.flatten() * phase_fraction[kx, kz].flatten())/np.sum(beam_kernel)\n",
    "                tigress_results[fwhm][i][f\"{phase}_log10_NHI_TB\"] = np.log10(tigress_results[fwhm][i][f\"{phase}_fraction_TB\"] * NHI_smooth[phase][x, z])\n",
    "        else:\n",
    "            tigress_results[fwhm][i][\"tspin_tau\"] = tigress_results[fwhm][i][\"tspin_TB\"] = spin_temperature[x, :, z]\n",
    "            tigress_results[fwhm][i][\"log10_tkin_tau\"] = tigress_results[fwhm][i][\"log10_tkin_TB\"] = np.log10(kinetic_temperature[x, :, z])\n",
    "            tigress_results[fwhm][i][\"log10_NHI_tau\"] = tigress_results[fwhm][i][\"log10_NHI_TB\"] = np.log10(density[x, :, z]) + res\n",
    "            tigress_results[fwhm][i][\"log10_nHI_tau\"] = tigress_results[fwhm][i][\"log10_nHI_TB\"] = np.log10(density[x, :, z])\n",
    "            tigress_results[fwhm][i][\"log10_pressure_tau\"] = tigress_results[fwhm][i][\"log10_pressure_TB\"] = np.log10(\n",
    "                1.1 * density[x, :, z] * kinetic_temperature[x, :, z]\n",
    "            )\n",
    "            for phase in [\"CNM\", \"LNM\", \"WNM\"]:\n",
    "                phase_fraction = NHI[phase]/NHI[\"All\"]\n",
    "                tigress_results[fwhm][i][f\"{phase}_log10_NHI_tau\"] = tigress_results[fwhm][i][f\"{phase}_log10_NHI_TB\"] = np.log10(NHI[phase][x, z])\n",
    "                tigress_results[fwhm][i][f\"{phase}_fraction_tau\"] = tigress_results[fwhm][i][f\"{phase}_fraction_TB\"] = phase_fraction[x, z]\n",
    "\n",
    "        pbar.update()\n",
    "\n",
    "    # package for gausspy\n",
    "    mismatched_joint = {\n",
    "        \"data_list\": [mismatched_absorption_spectra[i] for i in range(sample_spectra)],\n",
    "        \"data_list_em\": [mismatched_emission_spectra[i] for i in range(sample_spectra)],\n",
    "        \"x_values\": [velocity for i in range(sample_spectra)],\n",
    "        \"x_values_em\": [velocity for i in range(sample_spectra)],\n",
    "        \"errors\": [np.ones_like(velocity) * tau_rms for i in range(sample_spectra)],\n",
    "        \"errors_em\": [np.ones_like(velocity) * TB_rms for i in range(sample_spectra)],\n",
    "        \"location\": [location[i] for i in range(sample_spectra)],\n",
    "    }\n",
    "    matched_joint = {\n",
    "        \"data_list\": [mismatched_absorption_spectra[i] for i in range(sample_spectra)],\n",
    "        \"data_list_em\": [matched_emission_spectra[i] for i in range(sample_spectra)],\n",
    "        \"x_values\": [velocity for i in range(sample_spectra)],\n",
    "        \"x_values_em\": [velocity for i in range(sample_spectra)],\n",
    "        \"errors\": [np.ones_like(velocity) * tau_rms for i in range(sample_spectra)],\n",
    "        \"errors_em\": [matched_emission_spectra_err[i] for i in range(sample_spectra)],\n",
    "        \"location\": [location[i] for i in range(sample_spectra)],\n",
    "    }\n",
    "    with open(f\"{outdir}/HI_mismatched_spectra_{fwhm}pix.pkl\", \"wb\") as f:\n",
    "        pickle.dump(mismatched_joint, f)\n",
    "    with open(f\"{outdir}/HI_matched_spectra_{fwhm}pix.pkl\", \"wb\") as f:\n",
    "        pickle.dump(matched_joint, f)\n",
    "with open(f\"{outdir}/tigress_tigress_results.pkl\", \"wb\") as f:\n",
    "    pickle.dump(tigress_results, f)"
   ]
  },
  {
   "cell_type": "code",
   "execution_count": null,
   "id": "bd7ae2e1-0ac4-4b21-a4d1-9dbdf18a5ca4",
   "metadata": {
    "ExecuteTime": {
     "end_time": "2024-10-18T19:30:29.844715Z",
     "start_time": "2024-10-18T19:30:26.872709Z"
    }
   },
   "outputs": [],
   "source": [
    "import pickle\n",
    "import matplotlib.pyplot as plt\n",
    "import numpy as np\n",
    "\n",
    "outdir = \"/media/drive1/tigress_ncr_results/R8_4pc\"\n",
    "\n",
    "fwhm = 3\n",
    "with open(f\"{outdir}/HI_mismatched_spectra_1pix.pkl\", \"rb\") as f:\n",
    "    true_joint = pickle.load(f)\n",
    "with open(f\"{outdir}/HI_mismatched_spectra_{fwhm}pix.pkl\", \"rb\") as f:\n",
    "    mismatched_joint = pickle.load(f)\n",
    "with open(f\"{outdir}/HI_matched_spectra_{fwhm}pix.pkl\", \"rb\") as f:\n",
    "    matched_joint = pickle.load(f)"
   ]
  },
  {
   "cell_type": "code",
   "execution_count": null,
   "id": "5448654f-2e03-4bf9-9c99-ecf8290c904a",
   "metadata": {
    "ExecuteTime": {
     "end_time": "2024-10-18T19:31:31.267616Z",
     "start_time": "2024-10-18T19:31:31.144652Z"
    }
   },
   "outputs": [],
   "source": [
    "# plot some example spectra\n",
    "fig, axes = plt.subplots(2, sharex=True)\n",
    "idx = np.random.choice(len(true_joint['location']))\n",
    "while np.max(true_joint['data_list'][idx]) < 0.01:\n",
    "    idx = np.random.choice(len(true_joint['location']))\n",
    "axes[0].plot(true_joint['x_values_em'][idx], true_joint['data_list_em'][idx], 'k-', label=\"True\")\n",
    "axes[0].plot(mismatched_joint['x_values_em'][idx], mismatched_joint['data_list_em'][idx], 'g-', label=\"Mis-matched\")\n",
    "axes[0].plot(matched_joint['x_values_em'][idx], matched_joint['data_list_em'][idx], 'r-', label=\"Matched\")\n",
    "axes[0].plot(matched_joint['x_values_em'][idx], matched_joint['errors_em'][idx], 'b-', label=\"Matched Error\")\n",
    "axes[1].plot(true_joint['x_values'][idx], true_joint['data_list'][idx], 'k-')\n",
    "axes[0].legend(loc='best', fontsize=10)\n",
    "axes[0].set_xlim(-50.0, 50.0)\n",
    "fig.show()"
   ]
  },
  {
   "cell_type": "code",
   "execution_count": null,
   "id": "29c2c367-8593-441a-815c-ba6c47faf8cd",
   "metadata": {},
   "outputs": [],
   "source": []
  }
 ],
 "metadata": {
  "kernelspec": {
   "display_name": "Python 3 (ipykernel)",
   "language": "python",
   "name": "python3"
  },
  "language_info": {
   "codemirror_mode": {
    "name": "ipython",
    "version": 3
   },
   "file_extension": ".py",
   "mimetype": "text/x-python",
   "name": "python",
   "nbconvert_exporter": "python",
   "pygments_lexer": "ipython3",
   "version": "3.12.4"
  }
 },
 "nbformat": 4,
 "nbformat_minor": 5
}
